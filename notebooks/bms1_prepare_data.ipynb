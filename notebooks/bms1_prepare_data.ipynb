{
 "cells": [
  {
   "cell_type": "code",
   "execution_count": null,
   "id": "77fe1880",
   "metadata": {},
   "outputs": [],
   "source": []
  },
  {
   "cell_type": "code",
   "execution_count": 4,
   "id": "77d48fed",
   "metadata": {},
   "outputs": [],
   "source": [
    "# read rds file\n",
    "import pyreadr\n",
    "\n",
    "rds_path1 = \"/projects/wangc/m344313/OVTMA_project/data/bms1/bms1_part1.rds\"\n",
    "\n",
    "# read rds file\n",
    "pd1 = pyreadr.read_r(rds_path1)\n",
    "\n",
    "# read rds file\n",
    "rds_path2 = \"/projects/wangc/m344313/OVTMA_project/data/bms1/bms1_part2.rds\"\n",
    "\n",
    "# read rds file\n",
    "pd2 = pyreadr.read_r(rds_path2)\n"
   ]
  },
  {
   "cell_type": "code",
   "execution_count": 7,
   "id": "718533d6",
   "metadata": {},
   "outputs": [
    {
     "data": {
      "text/plain": [
       "odict_items([(None,         patientID    imageID  responder        fov        x       y  \\\n",
       "0           Mel30  Mel30_001          0  interface   982.39  1186.2   \n",
       "1           Mel30  Mel30_001          0  interface  1377.90  1183.1   \n",
       "2           Mel30  Mel30_001          0  interface  1656.50  1177.9   \n",
       "3           Mel30  Mel30_001          0  interface    72.73  1175.6   \n",
       "4           Mel30  Mel30_001          0  interface   345.14  1179.3   \n",
       "...           ...        ...        ...        ...      ...     ...   \n",
       "1824987     Mel46  Mel46_023          1      tumor   431.25  1379.7   \n",
       "1824988     Mel46  Mel46_023          1      tumor  1288.20  1380.6   \n",
       "1824989     Mel46  Mel46_023          1      tumor   557.97  1380.3   \n",
       "1824990     Mel46  Mel46_023          1      tumor   957.13  1378.1   \n",
       "1824991     Mel46  Mel46_023          1      tumor  1033.10  1378.5   \n",
       "\n",
       "                cell_type  \n",
       "0        Cytotoxic T Cell  \n",
       "1                  B Cell  \n",
       "2                  B Cell  \n",
       "3          Dendritic Cell  \n",
       "4              Tumor Cell  \n",
       "...                   ...  \n",
       "1824987        Tumor Cell  \n",
       "1824988        Tumor Cell  \n",
       "1824989        Tumor Cell  \n",
       "1824990        Tumor Cell  \n",
       "1824991        Tumor Cell  \n",
       "\n",
       "[1824992 rows x 7 columns])])"
      ]
     },
     "execution_count": 7,
     "metadata": {},
     "output_type": "execute_result"
    }
   ],
   "source": [
    "pd1.items()"
   ]
  }
 ],
 "metadata": {
  "kernelspec": {
   "display_name": "Python 3",
   "language": "python",
   "name": "python3"
  },
  "language_info": {
   "codemirror_mode": {
    "name": "ipython",
    "version": 3
   },
   "file_extension": ".py",
   "mimetype": "text/x-python",
   "name": "python",
   "nbconvert_exporter": "python",
   "pygments_lexer": "ipython3",
   "version": "3.10.18"
  }
 },
 "nbformat": 4,
 "nbformat_minor": 5
}
